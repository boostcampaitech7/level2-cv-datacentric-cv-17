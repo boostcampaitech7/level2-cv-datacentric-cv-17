{
 "cells": [
  {
   "cell_type": "code",
   "execution_count": 3,
   "metadata": {},
   "outputs": [
    {
     "name": "stderr",
     "output_type": "stream",
     "text": [
      "  1%|          | 1/120 [00:00<00:17,  6.64it/s]"
     ]
    },
    {
     "name": "stdout",
     "output_type": "stream",
     "text": [
      "Saved annotated image: ./output07/annotated_extractor.zh.in_house.appen_000315_page0001.jpg\n",
      "Saved annotated image: ./output07/annotated_extractor.th.in_house.appen_000020_page0001.jpg\n",
      "Saved annotated image: ./output07/annotated_extractor.th.in_house.appen_001010_page0001.jpg\n"
     ]
    },
    {
     "name": "stderr",
     "output_type": "stream",
     "text": [
      "  3%|▎         | 4/120 [00:00<00:11, 10.05it/s]"
     ]
    },
    {
     "name": "stdout",
     "output_type": "stream",
     "text": [
      "Saved annotated image: ./output07/annotated_extractor.th.in_house.appen_000889_page0001.jpg\n"
     ]
    },
    {
     "name": "stderr",
     "output_type": "stream",
     "text": [
      "  4%|▍         | 5/120 [00:00<00:16,  7.11it/s]"
     ]
    },
    {
     "name": "stdout",
     "output_type": "stream",
     "text": [
      "Saved annotated image: ./output07/annotated_extractor.zh.in_house.appen_000230_page0001.jpg\n",
      "Saved annotated image: ./output07/annotated_extractor.vi.in_house.appen_000158_page0001.jpg\n",
      "Saved annotated image: ./output07/annotated_extractor.vi.in_house.appen_000035_page0001.jpg\n",
      "Saved annotated image: ./output07/annotated_extractor.ja.in_house.appen_000495_page0001.jpg\n",
      "Saved annotated image: ./output07/annotated_extractor.zh.in_house.appen_000492_page0001.jpg\n",
      "Saved annotated image: ./output07/annotated_extractor.ja.in_house.appen_000514_page0001.jpg\n",
      "Saved annotated image: ./output07/annotated_extractor.th.in_house.appen_000977_page0001.jpg\n",
      "Saved annotated image: ./output07/annotated_extractor.ja.in_house.appen_000220_page0001.jpg\n"
     ]
    },
    {
     "name": "stderr",
     "output_type": "stream",
     "text": [
      " 11%|█         | 13/120 [00:00<00:06, 16.72it/s]"
     ]
    },
    {
     "name": "stdout",
     "output_type": "stream",
     "text": [
      "Saved annotated image: ./output07/annotated_extractor.th.in_house.appen_000830_page0001.jpg\n",
      "Saved annotated image: ./output07/annotated_extractor.vi.in_house.appen_000285_page0001.jpg\n",
      "Saved annotated image: ./output07/annotated_extractor.vi.in_house.appen_000518_page0001.jpg\n",
      "Saved annotated image: ./output07/annotated_extractor.vi.in_house.appen_000501_page0001.jpg\n",
      "Saved annotated image: ./output07/annotated_extractor.ja.in_house.appen_000410_page0001.jpg\n"
     ]
    },
    {
     "name": "stderr",
     "output_type": "stream",
     "text": [
      " 15%|█▌        | 18/120 [00:01<00:05, 19.25it/s]"
     ]
    },
    {
     "name": "stdout",
     "output_type": "stream",
     "text": [
      "Saved annotated image: ./output07/annotated_extractor.ja.in_house.appen_000788_page0001.jpg\n",
      "Saved annotated image: ./output07/annotated_extractor.ja.in_house.appen_000823_page0001.jpg\n",
      "Saved annotated image: ./output07/annotated_extractor.zh.in_house.appen_000737_page0001.jpg\n",
      "Saved annotated image: ./output07/annotated_extractor.zh.in_house.appen2_001095_page0001.jpg\n",
      "Saved annotated image: ./output07/annotated_extractor.ja.in_house.appen_000550_page0001.jpg\n"
     ]
    },
    {
     "name": "stderr",
     "output_type": "stream",
     "text": [
      " 22%|██▎       | 27/120 [00:01<00:05, 18.33it/s]"
     ]
    },
    {
     "name": "stdout",
     "output_type": "stream",
     "text": [
      "Saved annotated image: ./output07/annotated_extractor.th.in_house.appen_000052_page0001.jpg\n",
      "Saved annotated image: ./output07/annotated_extractor.zh.in_house.appen2_001096_page0001.jpg\n",
      "Saved annotated image: ./output07/annotated_extractor.vi.in_house.appen_000200_page0001.jpg\n",
      "Saved annotated image: ./output07/annotated_extractor.vi.in_house.appen_000049_page0001.jpg\n",
      "Saved annotated image: ./output07/annotated_extractor.th.in_house.appen_000634_page0001.jpg\n",
      "Saved annotated image: ./output07/annotated_extractor.ja.in_house.appen_000500_page0001.jpg\n"
     ]
    },
    {
     "name": "stderr",
     "output_type": "stream",
     "text": [
      " 31%|███       | 37/120 [00:01<00:03, 26.13it/s]"
     ]
    },
    {
     "name": "stdout",
     "output_type": "stream",
     "text": [
      "Saved annotated image: ./output07/annotated_extractor.vi.in_house.appen_000664_page0001.jpg\n",
      "Saved annotated image: ./output07/annotated_extractor.vi.in_house.appen_000420_page0001.jpg\n",
      "Saved annotated image: ./output07/annotated_extractor.vi.in_house.appen_000703_page0001.jpg\n",
      "Saved annotated image: ./output07/annotated_extractor.zh.in_house.appen_000571_page0001.jpg\n",
      "Saved annotated image: ./output07/annotated_extractor.vi.in_house.appen_000730_page0001.jpg\n",
      "Saved annotated image: ./output07/annotated_extractor.vi.in_house.appen_000065_page0001.jpg\n",
      "Saved annotated image: ./output07/annotated_extractor.vi.in_house.appen_001095_page0001.jpg\n",
      "Saved annotated image: ./output07/annotated_extractor.vi.in_house.appen_000227_page0001.jpg\n",
      "Saved annotated image: ./output07/annotated_extractor.ja.in_house.appen_000344_page0001.jpg\n",
      "Saved annotated image: ./output07/annotated_extractor.vi.in_house.appen_000142_page0001.jpg\n",
      "Saved annotated image: ./output07/annotated_extractor.th.in_house.appen_000656_page0001.jpg\n"
     ]
    },
    {
     "name": "stderr",
     "output_type": "stream",
     "text": [
      " 37%|███▋      | 44/120 [00:02<00:02, 33.81it/s]"
     ]
    },
    {
     "name": "stdout",
     "output_type": "stream",
     "text": [
      "Saved annotated image: ./output07/annotated_extractor.th.in_house.appen_000289_page0001.jpg\n",
      "Saved annotated image: ./output07/annotated_extractor.zh.in_house.appen_000523_page0001.jpg\n",
      "Saved annotated image: ./output07/annotated_extractor.vi.in_house.appen_000355_page0001.jpg\n",
      "Saved annotated image: ./output07/annotated_extractor.th.in_house.appen_000311_page0001.jpg\n",
      "Saved annotated image: ./output07/annotated_extractor.zh.in_house.appen_000163_page0001.jpg\n",
      "Saved annotated image: ./output07/annotated_extractor.ja.in_house.appen_000962_page0001.jpg\n",
      "Saved annotated image: ./output07/annotated_extractor.th.in_house.appen_000146_page0001.jpg\n"
     ]
    },
    {
     "name": "stderr",
     "output_type": "stream",
     "text": [
      " 41%|████      | 49/120 [00:02<00:03, 23.64it/s]"
     ]
    },
    {
     "name": "stdout",
     "output_type": "stream",
     "text": [
      "Saved annotated image: ./output07/annotated_extractor.th.in_house.appen_000131_page0001.jpg\n",
      "Saved annotated image: ./output07/annotated_extractor.ja.in_house.appen_000654_page0001.jpg\n",
      "Saved annotated image: ./output07/annotated_extractor.zh.in_house.appen_000515_page0001.jpg\n",
      "Saved annotated image: ./output07/annotated_extractor.zh.in_house.appen_000099_page0001.jpg\n"
     ]
    },
    {
     "name": "stderr",
     "output_type": "stream",
     "text": [
      " 49%|████▉     | 59/120 [00:02<00:02, 25.31it/s]"
     ]
    },
    {
     "name": "stdout",
     "output_type": "stream",
     "text": [
      "Saved annotated image: ./output07/annotated_extractor.th.in_house.appen_000072_page0001.jpg\n",
      "Saved annotated image: ./output07/annotated_extractor.th.in_house.appen_000692_page0001.jpg\n",
      "Saved annotated image: ./output07/annotated_extractor.vi.in_house.appen_000487_page0001.jpg\n",
      "Saved annotated image: ./output07/annotated_extractor.th.in_house.appen_000672_page0001.jpg\n",
      "Saved annotated image: ./output07/annotated_extractor.vi.in_house.appen_001040_page0001.jpg\n",
      "Saved annotated image: ./output07/annotated_extractor.th.in_house.appen_000381_page0001.jpg\n",
      "Saved annotated image: ./output07/annotated_extractor.ja.in_house.appen_000538_page0001.jpg\n",
      "Saved annotated image: ./output07/annotated_extractor.vi.in_house.appen_000812_page0001.jpg\n",
      "Saved annotated image: ./output07/annotated_extractor.ja.in_house.appen_000280_page0001.jpg\n",
      "Saved annotated image: ./output07/annotated_extractor.vi.in_house.appen_000150_page0001.jpg\n",
      "Saved annotated image: ./output07/annotated_extractor.zh.in_house.appen2_001071_page0001.jpg\n"
     ]
    },
    {
     "name": "stderr",
     "output_type": "stream",
     "text": [
      " 58%|█████▊    | 70/120 [00:03<00:01, 34.24it/s]"
     ]
    },
    {
     "name": "stdout",
     "output_type": "stream",
     "text": [
      "Saved annotated image: ./output07/annotated_extractor.th.in_house.appen_000493_page0001.jpg\n",
      "Saved annotated image: ./output07/annotated_extractor.zh.in_house.appen_000645_page0001.jpg\n",
      "Saved annotated image: ./output07/annotated_extractor.ja.in_house.appen_000413_page0001.jpg\n",
      "Saved annotated image: ./output07/annotated_extractor.ja.in_house.appen_000298_page0001.jpg\n",
      "Saved annotated image: ./output07/annotated_extractor.th.in_house.appen_000232_page0001.jpg\n",
      "Saved annotated image: ./output07/annotated_extractor.ja.in_house.appen_000013_page0001.jpg\n",
      "Saved annotated image: ./output07/annotated_extractor.ja.in_house.appen_000584_page0001.jpg\n",
      "Saved annotated image: ./output07/annotated_extractor.zh.in_house.appen_001011_page0001.jpg\n",
      "Saved annotated image: ./output07/annotated_extractor.zh.in_house.appen_000791_page0001.jpg\n",
      "Saved annotated image: ./output07/annotated_extractor.vi.in_house.appen_000072_page0001.jpg\n",
      "Saved annotated image: ./output07/annotated_extractor.ja.in_house.appen_001000_page0001.jpg\n",
      "Saved annotated image: ./output07/annotated_extractor.th.in_house.appen_000592_page0001.jpg\n",
      "Saved annotated image: ./output07/annotated_extractor.vi.in_house.appen_001094_page0001.jpg\n"
     ]
    },
    {
     "name": "stderr",
     "output_type": "stream",
     "text": [
      " 62%|██████▎   | 75/120 [00:03<00:01, 23.57it/s]"
     ]
    },
    {
     "name": "stdout",
     "output_type": "stream",
     "text": [
      "Saved annotated image: ./output07/annotated_extractor.zh.in_house.appen_000360_page0001.jpg\n",
      "Saved annotated image: ./output07/annotated_extractor.ja.in_house.appen_000116_page0001.jpg\n",
      "Saved annotated image: ./output07/annotated_extractor.th.in_house.appen_001017_page0001.jpg\n",
      "Saved annotated image: ./output07/annotated_extractor.th.in_house.appen_000783_page0001.jpg\n"
     ]
    },
    {
     "name": "stderr",
     "output_type": "stream",
     "text": [
      " 66%|██████▌   | 79/120 [00:03<00:01, 21.90it/s]"
     ]
    },
    {
     "name": "stdout",
     "output_type": "stream",
     "text": [
      "Saved annotated image: ./output07/annotated_extractor.ja.in_house.appen_000722_page0001.jpg\n",
      "Saved annotated image: ./output07/annotated_extractor.ja.in_house.appen_000038_page0001.jpg\n"
     ]
    },
    {
     "name": "stderr",
     "output_type": "stream",
     "text": [
      " 71%|███████   | 85/120 [00:04<00:01, 19.01it/s]"
     ]
    },
    {
     "name": "stdout",
     "output_type": "stream",
     "text": [
      "Saved annotated image: ./output07/annotated_extractor.ja.in_house.appen_000047_page0001.jpg\n",
      "Saved annotated image: ./output07/annotated_extractor.ja.in_house.appen_000198_page0001.jpg\n",
      "Saved annotated image: ./output07/annotated_extractor.vi.in_house.appen_000057_page0001.jpg\n",
      "Saved annotated image: ./output07/annotated_extractor.vi.in_house.appen_000564_page0001.jpg\n",
      "Saved annotated image: ./output07/annotated_extractor.th.in_house.appen_000603_page0001.jpg\n",
      "Saved annotated image: ./output07/annotated_extractor.vi.in_house.appen_000606_page0001.jpg\n",
      "Saved annotated image: ./output07/annotated_extractor.ja.in_house.appen_000215_page0001.jpg\n"
     ]
    },
    {
     "name": "stderr",
     "output_type": "stream",
     "text": [
      " 74%|███████▍  | 89/120 [00:04<00:01, 22.37it/s]"
     ]
    },
    {
     "name": "stdout",
     "output_type": "stream",
     "text": [
      "Saved annotated image: ./output07/annotated_extractor.zh.in_house.appen_000430_page0001.jpg\n",
      "Saved annotated image: ./output07/annotated_extractor.th.in_house.appen_000172_page0001.jpg\n"
     ]
    },
    {
     "name": "stderr",
     "output_type": "stream",
     "text": [
      " 81%|████████  | 97/120 [00:04<00:01, 21.42it/s]"
     ]
    },
    {
     "name": "stdout",
     "output_type": "stream",
     "text": [
      "Saved annotated image: ./output07/annotated_extractor.zh.in_house.appen_000677_page0001.jpg\n",
      "Saved annotated image: ./output07/annotated_extractor.zh.in_house.appen_000795_page0001.jpg\n",
      "Saved annotated image: ./output07/annotated_extractor.zh.in_house.appen_000640_page0001.jpg\n",
      "Saved annotated image: ./output07/annotated_extractor.th.in_house.appen_000807_page0001.jpg\n",
      "Saved annotated image: ./output07/annotated_extractor.th.in_house.appen_000824_page0001.jpg\n",
      "Saved annotated image: ./output07/annotated_extractor.zh.in_house.appen_000949_page0001.jpg\n",
      "Saved annotated image: ./output07/annotated_extractor.zh.in_house.appen_000064_page0001.jpg\n",
      "Saved annotated image: ./output07/annotated_extractor.zh.in_house.appen2_001065_page0001.jpg\n",
      "Saved annotated image: ./output07/annotated_extractor.zh.in_house.appen_000869_page0001.jpg\n",
      "Saved annotated image: ./output07/annotated_extractor.zh.in_house.appen2_001099_page0001.jpg\n"
     ]
    },
    {
     "name": "stderr",
     "output_type": "stream",
     "text": [
      " 89%|████████▉ | 107/120 [00:04<00:00, 30.75it/s]"
     ]
    },
    {
     "name": "stdout",
     "output_type": "stream",
     "text": [
      "Saved annotated image: ./output07/annotated_extractor.zh.in_house.appen_000762_page0001.jpg\n",
      "Saved annotated image: ./output07/annotated_extractor.zh.in_house.appen_000530_page0001.jpg\n",
      "Saved annotated image: ./output07/annotated_extractor.vi.in_house.appen_000390_page0001.jpg\n",
      "Saved annotated image: ./output07/annotated_extractor.ja.in_house.appen_000616_page0001.jpg\n",
      "Saved annotated image: ./output07/annotated_extractor.zh.in_house.appen_000041_page0001.jpg\n",
      "Saved annotated image: ./output07/annotated_extractor.ja.in_house.appen_000161_page0001.jpg\n",
      "Saved annotated image: ./output07/annotated_extractor.vi.in_house.appen_000481_page0001.jpg\n",
      "Saved annotated image: ./output07/annotated_extractor.zh.in_house.appen_000035_page0001.jpg\n",
      "Saved annotated image: ./output07/annotated_extractor.vi.in_house.appen_000191_page0001.jpg\n",
      "Saved annotated image: ./output07/annotated_extractor.vi.in_house.appen_000734_page0001.jpg\n"
     ]
    },
    {
     "name": "stderr",
     "output_type": "stream",
     "text": [
      " 92%|█████████▎| 111/120 [00:05<00:00, 22.01it/s]"
     ]
    },
    {
     "name": "stdout",
     "output_type": "stream",
     "text": [
      "Saved annotated image: ./output07/annotated_extractor.zh.in_house.appen_001017_page0001.jpg\n",
      "Saved annotated image: ./output07/annotated_extractor.ja.in_house.appen_000822_page0001.jpg\n",
      "Saved annotated image: ./output07/annotated_extractor.vi.in_house.appen_000572_page0001.jpg\n",
      "Saved annotated image: ./output07/annotated_extractor.th.in_house.appen_000115_page0001.jpg\n",
      "Saved annotated image: ./output07/annotated_extractor.ja.in_house.appen_000055_page0001.jpg\n"
     ]
    },
    {
     "name": "stderr",
     "output_type": "stream",
     "text": [
      " 98%|█████████▊| 118/120 [00:05<00:00, 16.85it/s]"
     ]
    },
    {
     "name": "stdout",
     "output_type": "stream",
     "text": [
      "Saved annotated image: ./output07/annotated_extractor.th.in_house.appen_000097_page0001.jpg\n",
      "Saved annotated image: ./output07/annotated_extractor.ja.in_house.appen_000064_page0001.jpg\n",
      "Saved annotated image: ./output07/annotated_extractor.th.in_house.appen_000597_page0001.jpg\n",
      "Saved annotated image: ./output07/annotated_extractor.th.in_house.appen_000444_page0001.jpg\n"
     ]
    },
    {
     "name": "stderr",
     "output_type": "stream",
     "text": [
      "100%|██████████| 120/120 [00:06<00:00, 19.94it/s]"
     ]
    },
    {
     "name": "stdout",
     "output_type": "stream",
     "text": [
      "Saved annotated image: ./output07/annotated_extractor.th.in_house.appen_000547_page0001.jpg\n",
      "Saved annotated image: ./output07/annotated_extractor.ja.in_house.appen_000474_page0001.jpg\n"
     ]
    },
    {
     "name": "stderr",
     "output_type": "stream",
     "text": [
      "\n"
     ]
    }
   ],
   "source": [
    "import os\n",
    "import cv2\n",
    "import json\n",
    "import numpy as np\n",
    "from tqdm import tqdm\n",
    "\n",
    "# JSON 파일 경로\n",
    "JSON_PATH = '/data/ephemeral/home/MCG/code/predictions/output(13)07.csv'\n",
    "\n",
    "# 이미지가 저장된 폴더 경로\n",
    "BASE_DIR = './'\n",
    "LANGUAGE_LIST = ['chinese_receipt', 'japanese_receipt', 'thai_receipt', 'vietnamese_receipt']\n",
    "TEST_IMAGE_DIRS = [os.path.join(BASE_DIR, lang, 'img', 'test') for lang in LANGUAGE_LIST]\n",
    "\n",
    "# 결과 이미지를 저장할 폴더\n",
    "OUTPUT_DIR = './output07'\n",
    "os.makedirs(OUTPUT_DIR, exist_ok=True)\n",
    "\n",
    "# JSON 파일을 불러오기\n",
    "with open(JSON_PATH, 'r') as f:\n",
    "    data = json.load(f)\n",
    "\n",
    "def draw_and_save_polygons_from_json():\n",
    "    for image_name, image_data in tqdm(data['images'].items()):\n",
    "        # 이미지 경로 찾기\n",
    "        image_path = None\n",
    "        for test_dir in TEST_IMAGE_DIRS:\n",
    "            potential_path = os.path.join(test_dir, image_name)\n",
    "            if os.path.exists(potential_path):\n",
    "                image_path = potential_path\n",
    "                break\n",
    "\n",
    "        if not image_path:\n",
    "            print(f\"Image {image_name} not found in any test directories.\")\n",
    "            continue\n",
    "\n",
    "        # 이미지 로드\n",
    "        image = cv2.imread(image_path)\n",
    "        if image is None:\n",
    "            print(f\"Could not load image: {image_path}\")\n",
    "            continue\n",
    "\n",
    "        # 각 단어의 폴리곤 그리기\n",
    "        for word_data in image_data['words'].values():\n",
    "            points = np.array(word_data['points'], np.int32).reshape((-1, 1, 2))\n",
    "            cv2.polylines(image, [points], isClosed=True, color=(0, 255, 0), thickness=2)\n",
    "\n",
    "        # 결과 이미지 저장\n",
    "        save_path = os.path.join(OUTPUT_DIR, f'annotated_{image_name}')\n",
    "        cv2.imwrite(save_path, image)\n",
    "        print(f\"Saved annotated image: {save_path}\")\n",
    "\n",
    "draw_and_save_polygons_from_json()\n"
   ]
  },
  {
   "cell_type": "code",
   "execution_count": null,
   "metadata": {},
   "outputs": [
    {
     "name": "stderr",
     "output_type": "stream",
     "text": [
      "  7%|▋         | 8/120 [00:00<00:02, 37.80it/s]"
     ]
    },
    {
     "name": "stdout",
     "output_type": "stream",
     "text": [
      "Saved annotated image: ./fold3_1536_1024_0.4_2/annotated_extractor.zh.in_house.appen_000041_page0001.jpg\n",
      "Saved annotated image: ./fold3_1536_1024_0.4_2/annotated_extractor.zh.in_house.appen_000492_page0001.jpg\n",
      "Saved annotated image: ./fold3_1536_1024_0.4_2/annotated_extractor.zh.in_house.appen_000640_page0001.jpg\n",
      "Saved annotated image: ./fold3_1536_1024_0.4_2/annotated_extractor.zh.in_house.appen_000645_page0001.jpg\n",
      "Saved annotated image: ./fold3_1536_1024_0.4_2/annotated_extractor.zh.in_house.appen_000515_page0001.jpg\n",
      "Saved annotated image: ./fold3_1536_1024_0.4_2/annotated_extractor.zh.in_house.appen_000737_page0001.jpg\n",
      "Saved annotated image: ./fold3_1536_1024_0.4_2/annotated_extractor.zh.in_house.appen2_001071_page0001.jpg\n",
      "Saved annotated image: ./fold3_1536_1024_0.4_2/annotated_extractor.zh.in_house.appen_000064_page0001.jpg\n",
      "Saved annotated image: ./fold3_1536_1024_0.4_2/annotated_extractor.zh.in_house.appen_000360_page0001.jpg\n",
      "Saved annotated image: ./fold3_1536_1024_0.4_2/annotated_extractor.zh.in_house.appen_000795_page0001.jpg\n",
      "Saved annotated image: ./fold3_1536_1024_0.4_2/annotated_extractor.zh.in_house.appen_000523_page0001.jpg\n"
     ]
    },
    {
     "name": "stderr",
     "output_type": "stream",
     "text": [
      " 13%|█▎        | 16/120 [00:00<00:06, 17.07it/s]"
     ]
    },
    {
     "name": "stdout",
     "output_type": "stream",
     "text": [
      "Saved annotated image: ./fold3_1536_1024_0.4_2/annotated_extractor.zh.in_house.appen_000230_page0001.jpg\n",
      "Saved annotated image: ./fold3_1536_1024_0.4_2/annotated_extractor.zh.in_house.appen_000163_page0001.jpg\n",
      "Saved annotated image: ./fold3_1536_1024_0.4_2/annotated_extractor.zh.in_house.appen2_001095_page0001.jpg\n",
      "Saved annotated image: ./fold3_1536_1024_0.4_2/annotated_extractor.zh.in_house.appen_000949_page0001.jpg\n",
      "Saved annotated image: ./fold3_1536_1024_0.4_2/annotated_extractor.zh.in_house.appen_000035_page0001.jpg\n"
     ]
    },
    {
     "name": "stderr",
     "output_type": "stream",
     "text": [
      " 16%|█▌        | 19/120 [00:01<00:06, 16.62it/s]"
     ]
    },
    {
     "name": "stdout",
     "output_type": "stream",
     "text": [
      "Saved annotated image: ./fold3_1536_1024_0.4_2/annotated_extractor.zh.in_house.appen_000315_page0001.jpg\n",
      "Saved annotated image: ./fold3_1536_1024_0.4_2/annotated_extractor.zh.in_house.appen2_001065_page0001.jpg\n",
      "Saved annotated image: ./fold3_1536_1024_0.4_2/annotated_extractor.zh.in_house.appen_000869_page0001.jpg\n",
      "Saved annotated image: ./fold3_1536_1024_0.4_2/annotated_extractor.zh.in_house.appen_000762_page0001.jpg\n"
     ]
    },
    {
     "name": "stderr",
     "output_type": "stream",
     "text": [
      " 20%|██        | 24/120 [00:01<00:07, 12.40it/s]"
     ]
    },
    {
     "name": "stdout",
     "output_type": "stream",
     "text": [
      "Saved annotated image: ./fold3_1536_1024_0.4_2/annotated_extractor.zh.in_house.appen_000677_page0001.jpg\n",
      "Saved annotated image: ./fold3_1536_1024_0.4_2/annotated_extractor.zh.in_house.appen_000530_page0001.jpg\n",
      "Saved annotated image: ./fold3_1536_1024_0.4_2/annotated_extractor.zh.in_house.appen_001017_page0001.jpg\n",
      "Saved annotated image: ./fold3_1536_1024_0.4_2/annotated_extractor.zh.in_house.appen_000571_page0001.jpg\n"
     ]
    },
    {
     "name": "stderr",
     "output_type": "stream",
     "text": [
      " 23%|██▎       | 28/120 [00:01<00:05, 15.90it/s]"
     ]
    },
    {
     "name": "stdout",
     "output_type": "stream",
     "text": [
      "Saved annotated image: ./fold3_1536_1024_0.4_2/annotated_extractor.zh.in_house.appen_000791_page0001.jpg\n",
      "Saved annotated image: ./fold3_1536_1024_0.4_2/annotated_extractor.zh.in_house.appen_001011_page0001.jpg\n",
      "Saved annotated image: ./fold3_1536_1024_0.4_2/annotated_extractor.zh.in_house.appen2_001099_page0001.jpg\n",
      "Saved annotated image: ./fold3_1536_1024_0.4_2/annotated_extractor.zh.in_house.appen2_001096_page0001.jpg\n",
      "Saved annotated image: ./fold3_1536_1024_0.4_2/annotated_extractor.zh.in_house.appen_000099_page0001.jpg\n",
      "Saved annotated image: ./fold3_1536_1024_0.4_2/annotated_extractor.zh.in_house.appen_000430_page0001.jpg\n",
      "Saved annotated image: ./fold3_1536_1024_0.4_2/annotated_extractor.ja.in_house.appen_000280_page0001.jpg\n"
     ]
    },
    {
     "name": "stderr",
     "output_type": "stream",
     "text": [
      " 28%|██▊       | 33/120 [00:01<00:04, 21.49it/s]"
     ]
    },
    {
     "name": "stdout",
     "output_type": "stream",
     "text": [
      "Saved annotated image: ./fold3_1536_1024_0.4_2/annotated_extractor.ja.in_house.appen_000584_page0001.jpg\n",
      "Saved annotated image: ./fold3_1536_1024_0.4_2/annotated_extractor.ja.in_house.appen_000198_page0001.jpg\n",
      "Saved annotated image: ./fold3_1536_1024_0.4_2/annotated_extractor.ja.in_house.appen_000064_page0001.jpg\n"
     ]
    },
    {
     "name": "stderr",
     "output_type": "stream",
     "text": [
      " 32%|███▎      | 39/120 [00:02<00:04, 17.34it/s]"
     ]
    },
    {
     "name": "stdout",
     "output_type": "stream",
     "text": [
      "Saved annotated image: ./fold3_1536_1024_0.4_2/annotated_extractor.ja.in_house.appen_000822_page0001.jpg\n",
      "Saved annotated image: ./fold3_1536_1024_0.4_2/annotated_extractor.ja.in_house.appen_000413_page0001.jpg\n",
      "Saved annotated image: ./fold3_1536_1024_0.4_2/annotated_extractor.ja.in_house.appen_000055_page0001.jpg\n",
      "Saved annotated image: ./fold3_1536_1024_0.4_2/annotated_extractor.ja.in_house.appen_000616_page0001.jpg\n",
      "Saved annotated image: ./fold3_1536_1024_0.4_2/annotated_extractor.ja.in_house.appen_000344_page0001.jpg\n"
     ]
    },
    {
     "name": "stderr",
     "output_type": "stream",
     "text": [
      " 35%|███▌      | 42/120 [00:02<00:03, 19.55it/s]"
     ]
    },
    {
     "name": "stdout",
     "output_type": "stream",
     "text": [
      "Saved annotated image: ./fold3_1536_1024_0.4_2/annotated_extractor.ja.in_house.appen_001000_page0001.jpg\n",
      "Saved annotated image: ./fold3_1536_1024_0.4_2/annotated_extractor.ja.in_house.appen_000722_page0001.jpg\n",
      "Saved annotated image: ./fold3_1536_1024_0.4_2/annotated_extractor.ja.in_house.appen_000116_page0001.jpg\n"
     ]
    },
    {
     "name": "stderr",
     "output_type": "stream",
     "text": [
      " 40%|████      | 48/120 [00:02<00:03, 19.11it/s]"
     ]
    },
    {
     "name": "stdout",
     "output_type": "stream",
     "text": [
      "Saved annotated image: ./fold3_1536_1024_0.4_2/annotated_extractor.ja.in_house.appen_000047_page0001.jpg\n",
      "Saved annotated image: ./fold3_1536_1024_0.4_2/annotated_extractor.ja.in_house.appen_000298_page0001.jpg\n",
      "Saved annotated image: ./fold3_1536_1024_0.4_2/annotated_extractor.ja.in_house.appen_000538_page0001.jpg\n",
      "Saved annotated image: ./fold3_1536_1024_0.4_2/annotated_extractor.ja.in_house.appen_000215_page0001.jpg\n",
      "Saved annotated image: ./fold3_1536_1024_0.4_2/annotated_extractor.ja.in_house.appen_000788_page0001.jpg\n",
      "Saved annotated image: ./fold3_1536_1024_0.4_2/annotated_extractor.ja.in_house.appen_000962_page0001.jpg\n"
     ]
    },
    {
     "name": "stderr",
     "output_type": "stream",
     "text": [
      " 44%|████▍     | 53/120 [00:02<00:02, 24.42it/s]"
     ]
    },
    {
     "name": "stdout",
     "output_type": "stream",
     "text": [
      "Saved annotated image: ./fold3_1536_1024_0.4_2/annotated_extractor.ja.in_house.appen_000495_page0001.jpg\n",
      "Saved annotated image: ./fold3_1536_1024_0.4_2/annotated_extractor.ja.in_house.appen_000514_page0001.jpg\n",
      "Saved annotated image: ./fold3_1536_1024_0.4_2/annotated_extractor.ja.in_house.appen_000654_page0001.jpg\n",
      "Saved annotated image: ./fold3_1536_1024_0.4_2/annotated_extractor.ja.in_house.appen_000410_page0001.jpg\n",
      "Saved annotated image: ./fold3_1536_1024_0.4_2/annotated_extractor.ja.in_house.appen_000500_page0001.jpg\n",
      "Saved annotated image: ./fold3_1536_1024_0.4_2/annotated_extractor.ja.in_house.appen_000823_page0001.jpg\n",
      "Saved annotated image: ./fold3_1536_1024_0.4_2/annotated_extractor.ja.in_house.appen_000550_page0001.jpg\n",
      "Saved annotated image: ./fold3_1536_1024_0.4_2/annotated_extractor.ja.in_house.appen_000220_page0001.jpg\n",
      "Saved annotated image: ./fold3_1536_1024_0.4_2/annotated_extractor.ja.in_house.appen_000474_page0001.jpg\n",
      "Saved annotated image: ./fold3_1536_1024_0.4_2/annotated_extractor.ja.in_house.appen_000013_page0001.jpg\n"
     ]
    },
    {
     "name": "stderr",
     "output_type": "stream",
     "text": [
      " 49%|████▉     | 59/120 [00:03<00:02, 25.16it/s]"
     ]
    },
    {
     "name": "stdout",
     "output_type": "stream",
     "text": [
      "Saved annotated image: ./fold3_1536_1024_0.4_2/annotated_extractor.ja.in_house.appen_000038_page0001.jpg\n",
      "Saved annotated image: ./fold3_1536_1024_0.4_2/annotated_extractor.ja.in_house.appen_000161_page0001.jpg\n",
      "Saved annotated image: ./fold3_1536_1024_0.4_2/annotated_extractor.th.in_house.appen_000172_page0001.jpg\n",
      "Saved annotated image: ./fold3_1536_1024_0.4_2/annotated_extractor.th.in_house.appen_000824_page0001.jpg\n",
      "Saved annotated image: ./fold3_1536_1024_0.4_2/annotated_extractor.th.in_house.appen_000592_page0001.jpg\n",
      "Saved annotated image: ./fold3_1536_1024_0.4_2/annotated_extractor.th.in_house.appen_000672_page0001.jpg\n"
     ]
    },
    {
     "name": "stderr",
     "output_type": "stream",
     "text": [
      " 57%|█████▋    | 68/120 [00:03<00:02, 18.45it/s]"
     ]
    },
    {
     "name": "stdout",
     "output_type": "stream",
     "text": [
      "Saved annotated image: ./fold3_1536_1024_0.4_2/annotated_extractor.th.in_house.appen_000052_page0001.jpg\n",
      "Saved annotated image: ./fold3_1536_1024_0.4_2/annotated_extractor.th.in_house.appen_000146_page0001.jpg\n",
      "Saved annotated image: ./fold3_1536_1024_0.4_2/annotated_extractor.th.in_house.appen_000444_page0001.jpg\n",
      "Saved annotated image: ./fold3_1536_1024_0.4_2/annotated_extractor.th.in_house.appen_000977_page0001.jpg\n"
     ]
    },
    {
     "name": "stderr",
     "output_type": "stream",
     "text": [
      " 63%|██████▎   | 76/120 [00:04<00:02, 21.31it/s]"
     ]
    },
    {
     "name": "stdout",
     "output_type": "stream",
     "text": [
      "Saved annotated image: ./fold3_1536_1024_0.4_2/annotated_extractor.th.in_house.appen_000830_page0001.jpg\n",
      "Saved annotated image: ./fold3_1536_1024_0.4_2/annotated_extractor.th.in_house.appen_001017_page0001.jpg\n",
      "Saved annotated image: ./fold3_1536_1024_0.4_2/annotated_extractor.th.in_house.appen_000381_page0001.jpg\n",
      "Saved annotated image: ./fold3_1536_1024_0.4_2/annotated_extractor.th.in_house.appen_000115_page0001.jpg\n",
      "Saved annotated image: ./fold3_1536_1024_0.4_2/annotated_extractor.th.in_house.appen_000232_page0001.jpg\n",
      "Saved annotated image: ./fold3_1536_1024_0.4_2/annotated_extractor.th.in_house.appen_000692_page0001.jpg\n",
      "Saved annotated image: ./fold3_1536_1024_0.4_2/annotated_extractor.th.in_house.appen_000597_page0001.jpg\n",
      "Saved annotated image: ./fold3_1536_1024_0.4_2/annotated_extractor.th.in_house.appen_000289_page0001.jpg\n",
      "Saved annotated image: ./fold3_1536_1024_0.4_2/annotated_extractor.th.in_house.appen_000547_page0001.jpg\n",
      "Saved annotated image: ./fold3_1536_1024_0.4_2/annotated_extractor.th.in_house.appen_000807_page0001.jpg\n"
     ]
    },
    {
     "name": "stderr",
     "output_type": "stream",
     "text": [
      " 68%|██████▊   | 82/120 [00:04<00:02, 16.46it/s]"
     ]
    },
    {
     "name": "stdout",
     "output_type": "stream",
     "text": [
      "Saved annotated image: ./fold3_1536_1024_0.4_2/annotated_extractor.th.in_house.appen_000889_page0001.jpg\n",
      "Saved annotated image: ./fold3_1536_1024_0.4_2/annotated_extractor.th.in_house.appen_001010_page0001.jpg\n",
      "Saved annotated image: ./fold3_1536_1024_0.4_2/annotated_extractor.th.in_house.appen_000603_page0001.jpg\n",
      "Saved annotated image: ./fold3_1536_1024_0.4_2/annotated_extractor.th.in_house.appen_000783_page0001.jpg\n",
      "Saved annotated image: ./fold3_1536_1024_0.4_2/annotated_extractor.th.in_house.appen_000311_page0001.jpg\n",
      "Saved annotated image: ./fold3_1536_1024_0.4_2/annotated_extractor.th.in_house.appen_000493_page0001.jpg\n",
      "Saved annotated image: ./fold3_1536_1024_0.4_2/annotated_extractor.th.in_house.appen_000656_page0001.jpg\n",
      "Saved annotated image: ./fold3_1536_1024_0.4_2/annotated_extractor.th.in_house.appen_000020_page0001.jpg\n"
     ]
    },
    {
     "name": "stderr",
     "output_type": "stream",
     "text": [
      " 73%|███████▎  | 88/120 [00:04<00:01, 18.39it/s]"
     ]
    },
    {
     "name": "stdout",
     "output_type": "stream",
     "text": [
      "Saved annotated image: ./fold3_1536_1024_0.4_2/annotated_extractor.th.in_house.appen_000634_page0001.jpg\n",
      "Saved annotated image: ./fold3_1536_1024_0.4_2/annotated_extractor.th.in_house.appen_000097_page0001.jpg\n",
      "Saved annotated image: ./fold3_1536_1024_0.4_2/annotated_extractor.th.in_house.appen_000131_page0001.jpg\n"
     ]
    },
    {
     "name": "stderr",
     "output_type": "stream",
     "text": [
      " 83%|████████▎ | 100/120 [00:05<00:00, 22.40it/s]"
     ]
    },
    {
     "name": "stdout",
     "output_type": "stream",
     "text": [
      "Saved annotated image: ./fold3_1536_1024_0.4_2/annotated_extractor.th.in_house.appen_000072_page0001.jpg\n",
      "Saved annotated image: ./fold3_1536_1024_0.4_2/annotated_extractor.vi.in_house.appen_000191_page0001.jpg\n",
      "Saved annotated image: ./fold3_1536_1024_0.4_2/annotated_extractor.vi.in_house.appen_000285_page0001.jpg\n",
      "Saved annotated image: ./fold3_1536_1024_0.4_2/annotated_extractor.vi.in_house.appen_000150_page0001.jpg\n",
      "Saved annotated image: ./fold3_1536_1024_0.4_2/annotated_extractor.vi.in_house.appen_000049_page0001.jpg\n",
      "Saved annotated image: ./fold3_1536_1024_0.4_2/annotated_extractor.vi.in_house.appen_000734_page0001.jpg\n",
      "Saved annotated image: ./fold3_1536_1024_0.4_2/annotated_extractor.vi.in_house.appen_000703_page0001.jpg\n",
      "Saved annotated image: ./fold3_1536_1024_0.4_2/annotated_extractor.vi.in_house.appen_000664_page0001.jpg\n",
      "Saved annotated image: ./fold3_1536_1024_0.4_2/annotated_extractor.vi.in_house.appen_000518_page0001.jpg\n",
      "Saved annotated image: ./fold3_1536_1024_0.4_2/annotated_extractor.vi.in_house.appen_000142_page0001.jpg\n",
      "Saved annotated image: ./fold3_1536_1024_0.4_2/annotated_extractor.vi.in_house.appen_000501_page0001.jpg\n",
      "Saved annotated image: ./fold3_1536_1024_0.4_2/annotated_extractor.vi.in_house.appen_000065_page0001.jpg\n",
      "Saved annotated image: ./fold3_1536_1024_0.4_2/annotated_extractor.vi.in_house.appen_000072_page0001.jpg\n"
     ]
    },
    {
     "name": "stderr",
     "output_type": "stream",
     "text": [
      " 94%|█████████▍| 113/120 [00:05<00:00, 33.16it/s]"
     ]
    },
    {
     "name": "stdout",
     "output_type": "stream",
     "text": [
      "Saved annotated image: ./fold3_1536_1024_0.4_2/annotated_extractor.vi.in_house.appen_001095_page0001.jpg\n",
      "Saved annotated image: ./fold3_1536_1024_0.4_2/annotated_extractor.vi.in_house.appen_000227_page0001.jpg\n",
      "Saved annotated image: ./fold3_1536_1024_0.4_2/annotated_extractor.vi.in_house.appen_000035_page0001.jpg\n",
      "Saved annotated image: ./fold3_1536_1024_0.4_2/annotated_extractor.vi.in_house.appen_000606_page0001.jpg\n",
      "Saved annotated image: ./fold3_1536_1024_0.4_2/annotated_extractor.vi.in_house.appen_001040_page0001.jpg\n",
      "Saved annotated image: ./fold3_1536_1024_0.4_2/annotated_extractor.vi.in_house.appen_000200_page0001.jpg\n",
      "Saved annotated image: ./fold3_1536_1024_0.4_2/annotated_extractor.vi.in_house.appen_000355_page0001.jpg\n",
      "Saved annotated image: ./fold3_1536_1024_0.4_2/annotated_extractor.vi.in_house.appen_000481_page0001.jpg\n",
      "Saved annotated image: ./fold3_1536_1024_0.4_2/annotated_extractor.vi.in_house.appen_000420_page0001.jpg\n",
      "Saved annotated image: ./fold3_1536_1024_0.4_2/annotated_extractor.vi.in_house.appen_000057_page0001.jpg\n",
      "Saved annotated image: ./fold3_1536_1024_0.4_2/annotated_extractor.vi.in_house.appen_001094_page0001.jpg\n",
      "Saved annotated image: ./fold3_1536_1024_0.4_2/annotated_extractor.vi.in_house.appen_000158_page0001.jpg\n",
      "Saved annotated image: ./fold3_1536_1024_0.4_2/annotated_extractor.vi.in_house.appen_000730_page0001.jpg\n"
     ]
    },
    {
     "name": "stderr",
     "output_type": "stream",
     "text": [
      "100%|██████████| 120/120 [00:05<00:00, 20.36it/s]"
     ]
    },
    {
     "name": "stdout",
     "output_type": "stream",
     "text": [
      "Saved annotated image: ./fold3_1536_1024_0.4_2/annotated_extractor.vi.in_house.appen_000572_page0001.jpg\n",
      "Saved annotated image: ./fold3_1536_1024_0.4_2/annotated_extractor.vi.in_house.appen_000812_page0001.jpg\n",
      "Saved annotated image: ./fold3_1536_1024_0.4_2/annotated_extractor.vi.in_house.appen_000487_page0001.jpg\n",
      "Saved annotated image: ./fold3_1536_1024_0.4_2/annotated_extractor.vi.in_house.appen_000390_page0001.jpg\n",
      "Saved annotated image: ./fold3_1536_1024_0.4_2/annotated_extractor.vi.in_house.appen_000564_page0001.jpg\n"
     ]
    },
    {
     "name": "stderr",
     "output_type": "stream",
     "text": [
      "\n"
     ]
    }
   ],
   "source": []
  }
 ],
 "metadata": {
  "kernelspec": {
   "display_name": "base",
   "language": "python",
   "name": "python3"
  },
  "language_info": {
   "codemirror_mode": {
    "name": "ipython",
    "version": 3
   },
   "file_extension": ".py",
   "mimetype": "text/x-python",
   "name": "python",
   "nbconvert_exporter": "python",
   "pygments_lexer": "ipython3",
   "version": "3.10.13"
  }
 },
 "nbformat": 4,
 "nbformat_minor": 2
}

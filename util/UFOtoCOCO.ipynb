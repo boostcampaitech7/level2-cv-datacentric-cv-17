{
 "cells": [
  {
   "cell_type": "markdown",
   "id": "ddd44bbf",
   "metadata": {},
   "source": [
    "## UFO to COCO"
   ]
  },
  {
   "cell_type": "code",
   "execution_count": 1,
   "id": "622737c2",
   "metadata": {},
   "outputs": [],
   "source": [
    "import json\n",
    "from typing import Dict, Any\n",
    "from collections import Counter"
   ]
  },
  {
   "cell_type": "code",
   "execution_count": 2,
   "id": "38001c0b",
   "metadata": {},
   "outputs": [],
   "source": [
    "def convert_to_coco_format(data: Dict[str, Any]):\n",
    "    coco_data = {\n",
    "        \"images\": [],\n",
    "        \"annotations\": [],\n",
    "        \"categories\": [{\"id\": 1, \"name\": \"text\"}], # 이부분은 비워놔도 됨(only text)\n",
    "    }\n",
    "\n",
    "    image_id_counter = 1\n",
    "    annotation_id_counter = 1\n",
    "\n",
    "    for file_name, file_data in data[\"images\"].items():\n",
    "        image_id = image_id_counter\n",
    "\n",
    "        coco_image = {\n",
    "            \"id\": image_id,\n",
    "            \"width\": file_data[\"img_w\"],\n",
    "            \"height\": file_data[\"img_h\"],\n",
    "            \"file_name\": file_name,\n",
    "            \"license\": 123, \n",
    "            \"flickr_url\": None, \n",
    "            \"coco_url\": None, \n",
    "            \"date_captured\": \"2023-05-21 17:02:52\"  \n",
    "        }\n",
    "        coco_data[\"images\"].append(coco_image)\n",
    "\n",
    "        for word_id, word_data in file_data[\"words\"].items():\n",
    "            annotation_id = annotation_id_counter\n",
    "            [tl, tr, br, bl] = word_data[\"points\"]\n",
    "            width = max(tl[0], tr[0], br[0], bl[0]) - min(tl[0], tr[0], br[0], bl[0])\n",
    "            height = max(tl[1], tr[1], br[1], bl[1]) - min(tl[1], tr[1], br[1], bl[1])\n",
    "            x = min(tl[0], tr[0], br[0], bl[0])\n",
    "            y = min(tl[1], tr[1], br[1], bl[1])\n",
    "            coco_annotation = {\n",
    "                \"id\": annotation_id,\n",
    "                \"image_id\": image_id,\n",
    "                \"category_id\": 1,  # 전부 text\n",
    "#                 \"bbox\": [tl[0], tl[1], width, height],\n",
    "                # tl[0], tl[1] 사용시 가로쓰기 세로모양에 대한 bbox가 이상하게 됨\n",
    "                \"segmentation\": [],\n",
    "                \"area\": width * height,\n",
    "                \"bbox\": [x, y, width, height],\n",
    "                \"iscrowd\": 0  \n",
    "            }\n",
    "            coco_data[\"annotations\"].append(coco_annotation)\n",
    "\n",
    "            annotation_id_counter += 1  # 새로운 word 마다 +1\n",
    "\n",
    "        image_id_counter += 1  # 새로운 image 마다 +1\n",
    "\n",
    "    return coco_data"
   ]
  },
  {
   "cell_type": "code",
   "execution_count": 6,
   "id": "f66fe087",
   "metadata": {},
   "outputs": [],
   "source": [
    "# Load UFO json\n",
    "with open(\"val_mosaic_relabel.json\") as f:\n",
    "    data = json.load(f)"
   ]
  },
  {
   "cell_type": "code",
   "execution_count": 7,
   "id": "9256cc05",
   "metadata": {},
   "outputs": [],
   "source": [
    "# Convert to COCO\n",
    "coco_data = convert_to_coco_format(data)"
   ]
  },
  {
   "cell_type": "code",
   "execution_count": 8,
   "id": "c0d6444a",
   "metadata": {},
   "outputs": [],
   "source": [
    "# Save COCO json\n",
    "with open(\"val_mosaic_relabel_coco.json\", \"w\") as f:\n",
    "    json.dump(coco_data, f)"
   ]
  },
  {
   "cell_type": "code",
   "execution_count": null,
   "id": "0499c4dc",
   "metadata": {},
   "outputs": [],
   "source": []
  }
 ],
 "metadata": {
  "kernelspec": {
   "display_name": "Python 3 (ipykernel)",
   "language": "python",
   "name": "python3"
  },
  "language_info": {
   "codemirror_mode": {
    "name": "ipython",
    "version": 3
   },
   "file_extension": ".py",
   "mimetype": "text/x-python",
   "name": "python",
   "nbconvert_exporter": "python",
   "pygments_lexer": "ipython3",
   "version": "3.11.0"
  }
 },
 "nbformat": 4,
 "nbformat_minor": 5
}

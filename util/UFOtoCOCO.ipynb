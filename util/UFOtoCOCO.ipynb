{
 "cells": [
  {
   "cell_type": "markdown",
   "id": "ddd44bbf",
   "metadata": {},
   "source": [
    "## UFO to COCO"
   ]
  },
  {
   "cell_type": "code",
   "execution_count": null,
   "id": "622737c2",
   "metadata": {},
   "outputs": [],
   "source": [
    "#UFO를 COCO 형식으로 변환\n",
    "\n",
    "import json\n",
    "\n",
    "def convert_to_coco(input_path, output_path):\n",
    "    with open(input_path, 'r', encoding='utf-8') as f:\n",
    "        data = json.load(f)\n",
    "    \n",
    "    images = []\n",
    "    annotations = []\n",
    "    annotation_id = 1\n",
    "    \n",
    "    for image_filename, image_info in data[\"images\"].items():\n",
    "        image_id = len(images) + 1\n",
    "        img_width = image_info.get(\"img_w\", None)\n",
    "        img_height = image_info.get(\"img_h\", None)\n",
    "        \n",
    "        images.append({\n",
    "            \"id\": image_id,\n",
    "            \"file_name\": image_filename,\n",
    "            \"width\": img_width,\n",
    "            \"height\": img_height\n",
    "        })\n",
    "\n",
    "        for word_id, word_info in image_info.get(\"words\", {}).items():\n",
    "            transcription = word_info[\"transcription\"]\n",
    "            points = word_info[\"points\"]\n",
    "            if not points or len(points) < 3:\n",
    "                continue\n",
    "            \n",
    "            # 다각형 포인트를 COCO segmentation 형식으로 변환\n",
    "            segmentation = [coord for point in points for coord in point]\n",
    "            \n",
    "            annotations.append({\n",
    "                \"id\": annotation_id,\n",
    "                \"image_id\": image_id,\n",
    "                \"category_id\": 1,  # OCR의 경우 단일 카테고리로 설정 가능\n",
    "                \"segmentation\": [segmentation],\n",
    "                \"iscrowd\": 0,\n",
    "                \"text\": transcription\n",
    "            })\n",
    "            annotation_id += 1\n",
    "\n",
    "    # COCO format을 위한 기본 구조\n",
    "    coco_format = {\n",
    "        \"images\": images,\n",
    "        \"annotations\": annotations,\n",
    "        \"categories\": [{\n",
    "            \"id\": 1,\n",
    "            \"name\": \"text\"\n",
    "        }]\n",
    "    }\n",
    "    \n",
    "    with open(output_path, 'w', encoding='utf-8') as f:\n",
    "        json.dump(coco_format, f, ensure_ascii=False, indent=2)\n",
    "\n",
    "# 파일 경로 지정\n",
    "input_path = \"/data/ephemeral/home/MCG/code/data/vietnamese_receipt/ufo/train.json\"\n",
    "output_path = \"/data/ephemeral/home/MCG/code/data/viet_train_coco.json\"\n",
    "\n",
    "# 변환 실행\n",
    "convert_to_coco(input_path, output_path)\n"
   ]
  }
 ],
 "metadata": {
  "kernelspec": {
   "display_name": "Python 3 (ipykernel)",
   "language": "python",
   "name": "python3"
  },
  "language_info": {
   "codemirror_mode": {
    "name": "ipython",
    "version": 3
   },
   "file_extension": ".py",
   "mimetype": "text/x-python",
   "name": "python",
   "nbconvert_exporter": "python",
   "pygments_lexer": "ipython3",
   "version": "3.11.0"
  }
 },
 "nbformat": 4,
 "nbformat_minor": 5
}

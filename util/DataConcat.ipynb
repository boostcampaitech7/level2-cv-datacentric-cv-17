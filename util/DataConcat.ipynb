{
 "cells": [
  {
   "cell_type": "code",
   "execution_count": null,
   "metadata": {},
   "outputs": [],
   "source": [
    "#K-Fold없이 모든 데이터를 하나의 json과 폴더에 넣는 코드\n",
    "\n",
    "import os\n",
    "import json\n",
    "import shutil\n",
    "\n",
    "# Define paths for image directories and JSON files\n",
    "image_dirs = [\n",
    "    \"/data/ephemeral/home/MCG/NewData/SROIE2019/combined/images\",\n",
    "    \"/data/ephemeral/home/MCG/BaseData/chi/train\",\n",
    "    \"/data/ephemeral/home/MCG/BaseData/jap/train\",\n",
    "    \"/data/ephemeral/home/MCG/BaseData/thai/train\",\n",
    "    \"/data/ephemeral/home/MCG/BaseData/vie/train\"\n",
    "]\n",
    "json_paths = [\n",
    "    \"/data/ephemeral/home/MCG/NewData/SROIE2019/combined/annotations.json\",\n",
    "    \"/data/ephemeral/home/MCG/code/data/chinese_receipt/ufo/train.json\",\n",
    "    \"/data/ephemeral/home/MCG/code/data/japanese_receipt/ufo/train.json\",\n",
    "    \"/data/ephemeral/home/MCG/code/data/thai_receipt/ufo/train.json\",\n",
    "    \"/data/ephemeral/home/MCG/code/data/vietnamese_receipt/ufo/train.json\"\n",
    "]\n",
    "\n",
    "# Directory to store all output images and annotations\n",
    "output_dir = \"/data/ephemeral/home/MCG/Output\"\n",
    "os.makedirs(output_dir, exist_ok=True)\n",
    "\n",
    "# Merge JSON files into a single dictionary\n",
    "all_annotations = {}\n",
    "for json_path in json_paths:\n",
    "    with open(json_path, 'r', encoding='utf-8') as f:\n",
    "        data = json.load(f)\n",
    "        all_annotations.update(data['images'])\n",
    "\n",
    "# Collect image paths and names that match the annotations\n",
    "image_files = []\n",
    "for image_dir in image_dirs:\n",
    "    for file_name in os.listdir(image_dir):\n",
    "        if file_name.endswith('.jpg') and file_name in all_annotations:\n",
    "            image_files.append((os.path.join(image_dir, file_name), file_name))\n",
    "\n",
    "# Copy all images to the output directory\n",
    "for img_path, img_name in image_files:\n",
    "    shutil.copy(img_path, os.path.join(output_dir, img_name))\n",
    "\n",
    "# Save the consolidated annotations JSON file\n",
    "consolidated_annotations = {\"images\": {img[1]: all_annotations[img[1]] for img in image_files}}\n",
    "with open(os.path.join(output_dir, 'annotations.json'), 'w', encoding='utf-8') as f:\n",
    "    json.dump(consolidated_annotations, f, ensure_ascii=False, indent=4)\n"
   ]
  }
 ],
 "metadata": {
  "kernelspec": {
   "display_name": "base",
   "language": "python",
   "name": "python3"
  },
  "language_info": {
   "codemirror_mode": {
    "name": "ipython",
    "version": 3
   },
   "file_extension": ".py",
   "mimetype": "text/x-python",
   "name": "python",
   "nbconvert_exporter": "python",
   "pygments_lexer": "ipython3",
   "version": "3.10.13"
  }
 },
 "nbformat": 4,
 "nbformat_minor": 2
}

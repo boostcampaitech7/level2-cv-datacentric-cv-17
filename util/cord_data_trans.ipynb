{
 "cells": [
  {
   "cell_type": "code",
   "execution_count": 12,
   "metadata": {},
   "outputs": [
    {
     "name": "stdout",
     "output_type": "stream",
     "text": [
      "Saved image 0 and its ground truth.\n",
      "Saved image 1 and its ground truth.\n",
      "Saved image 2 and its ground truth.\n",
      "Saved image 3 and its ground truth.\n",
      "Saved image 4 and its ground truth.\n",
      "Saved image 5 and its ground truth.\n",
      "Saved image 6 and its ground truth.\n",
      "Saved image 7 and its ground truth.\n",
      "Saved image 8 and its ground truth.\n",
      "Saved image 9 and its ground truth.\n",
      "Saved image 10 and its ground truth.\n",
      "Saved image 11 and its ground truth.\n",
      "Saved image 12 and its ground truth.\n",
      "Saved image 13 and its ground truth.\n",
      "Saved image 14 and its ground truth.\n",
      "Saved image 15 and its ground truth.\n",
      "Saved image 16 and its ground truth.\n",
      "Saved image 17 and its ground truth.\n",
      "Saved image 18 and its ground truth.\n",
      "Saved image 19 and its ground truth.\n",
      "Saved image 20 and its ground truth.\n",
      "Saved image 21 and its ground truth.\n",
      "Saved image 22 and its ground truth.\n",
      "Saved image 23 and its ground truth.\n",
      "Saved image 24 and its ground truth.\n",
      "Saved image 25 and its ground truth.\n",
      "Saved image 26 and its ground truth.\n",
      "Saved image 27 and its ground truth.\n",
      "Saved image 28 and its ground truth.\n",
      "Saved image 29 and its ground truth.\n",
      "Saved image 30 and its ground truth.\n",
      "Saved image 31 and its ground truth.\n",
      "Saved image 32 and its ground truth.\n",
      "Saved image 33 and its ground truth.\n",
      "Saved image 34 and its ground truth.\n",
      "Saved image 35 and its ground truth.\n",
      "Saved image 36 and its ground truth.\n",
      "Saved image 37 and its ground truth.\n",
      "Saved image 38 and its ground truth.\n",
      "Saved image 39 and its ground truth.\n",
      "Saved image 40 and its ground truth.\n",
      "Saved image 41 and its ground truth.\n",
      "Saved image 42 and its ground truth.\n",
      "Saved image 43 and its ground truth.\n",
      "Saved image 44 and its ground truth.\n",
      "Saved image 45 and its ground truth.\n",
      "Saved image 46 and its ground truth.\n",
      "Saved image 47 and its ground truth.\n",
      "Saved image 48 and its ground truth.\n",
      "Saved image 49 and its ground truth.\n",
      "Saved image 50 and its ground truth.\n",
      "Saved image 51 and its ground truth.\n",
      "Saved image 52 and its ground truth.\n",
      "Saved image 53 and its ground truth.\n",
      "Saved image 54 and its ground truth.\n",
      "Saved image 55 and its ground truth.\n",
      "Saved image 56 and its ground truth.\n",
      "Saved image 57 and its ground truth.\n",
      "Saved image 58 and its ground truth.\n",
      "Saved image 59 and its ground truth.\n",
      "Saved image 60 and its ground truth.\n",
      "Saved image 61 and its ground truth.\n",
      "Saved image 62 and its ground truth.\n",
      "Saved image 63 and its ground truth.\n",
      "Saved image 64 and its ground truth.\n",
      "Saved image 65 and its ground truth.\n",
      "Saved image 66 and its ground truth.\n",
      "Saved image 67 and its ground truth.\n",
      "Saved image 68 and its ground truth.\n",
      "Saved image 69 and its ground truth.\n",
      "Saved image 70 and its ground truth.\n",
      "Saved image 71 and its ground truth.\n",
      "Saved image 72 and its ground truth.\n",
      "Saved image 73 and its ground truth.\n",
      "Saved image 74 and its ground truth.\n",
      "Saved image 75 and its ground truth.\n",
      "Saved image 76 and its ground truth.\n",
      "Saved image 77 and its ground truth.\n",
      "Saved image 78 and its ground truth.\n",
      "Saved image 79 and its ground truth.\n",
      "Saved image 80 and its ground truth.\n",
      "Saved image 81 and its ground truth.\n",
      "Saved image 82 and its ground truth.\n",
      "Saved image 83 and its ground truth.\n",
      "Saved image 84 and its ground truth.\n",
      "Saved image 85 and its ground truth.\n",
      "Saved image 86 and its ground truth.\n",
      "Saved image 87 and its ground truth.\n",
      "Saved image 88 and its ground truth.\n",
      "Saved image 89 and its ground truth.\n",
      "Saved image 90 and its ground truth.\n",
      "Saved image 91 and its ground truth.\n",
      "Saved image 92 and its ground truth.\n",
      "Saved image 93 and its ground truth.\n",
      "Saved image 94 and its ground truth.\n",
      "Saved image 95 and its ground truth.\n",
      "Saved image 96 and its ground truth.\n",
      "Saved image 97 and its ground truth.\n",
      "Saved image 98 and its ground truth.\n",
      "Saved image 99 and its ground truth.\n"
     ]
    }
   ],
   "source": [
    "import pandas as pd\n",
    "import os\n",
    "from PIL import Image\n",
    "import io\n",
    "\n",
    "# Parquet 파일 경로\n",
    "file_path = \"/data/ephemeral/home/MCG/New_Data_Trans/New_Data/cord2/validation-00000-of-00001-cc3c5779fe22e8ca.parquet\"\n",
    "\n",
    "# 데이터 저장 경로 설정\n",
    "image_save_dir = \"/data/ephemeral/home/MCG/New_Data_Trans/cord2_trans_data/images\"\n",
    "text_save_dir = \"/data/ephemeral/home/MCG/New_Data_Trans/cord2_trans_data/ground_truths\"\n",
    "\n",
    "# 디렉토리 생성\n",
    "os.makedirs(image_save_dir, exist_ok=True)\n",
    "os.makedirs(text_save_dir, exist_ok=True)\n",
    "\n",
    "# Parquet 파일 로드\n",
    "df = pd.read_parquet(file_path)\n",
    "\n",
    "# 데이터 저장\n",
    "for index, row in df.iterrows():\n",
    "    try:\n",
    "        # 이미지와 ground_truth 가져오기\n",
    "        image_data = row[\"image\"][\"bytes\"]  # 이미지 바이너리 데이터\n",
    "        ground_truth = row[\"ground_truth\"]  # OCR 텍스트 데이터\n",
    "\n",
    "        # 이미지 저장\n",
    "        image = Image.open(io.BytesIO(image_data))\n",
    "        image_file_path = os.path.join(image_save_dir, f\"cord2_val_image_{index}.jpg\")\n",
    "        image.save(image_file_path)\n",
    "\n",
    "        # 텍스트 파일 저장\n",
    "        text_file_path = os.path.join(text_save_dir, f\"cord2_val_text_{index}.txt\")\n",
    "        with open(text_file_path, \"w\") as text_file:\n",
    "            text_file.write(ground_truth)\n",
    "\n",
    "        print(f\"Saved image {index} and its ground truth.\")\n",
    "        \n",
    "    except Exception as e:\n",
    "        print(f\"Error processing index {index}: {e}\")\n"
   ]
  },
  {
   "cell_type": "code",
   "execution_count": null,
   "metadata": {},
   "outputs": [
    {
     "name": "stderr",
     "output_type": "stream",
     "text": [
      "/opt/conda/lib/python3.10/site-packages/tqdm/auto.py:21: TqdmWarning: IProgress not found. Please update jupyter and ipywidgets. See https://ipywidgets.readthedocs.io/en/stable/user_install.html\n",
      "  from .autonotebook import tqdm as notebook_tqdm\n"
     ]
    },
    {
     "name": "stdout",
     "output_type": "stream",
     "text": [
      "Downloading from https://www.kaggle.com/api/v1/datasets/download/urbikn/sroie-datasetv2?dataset_version_number=4...\n"
     ]
    },
    {
     "name": "stderr",
     "output_type": "stream",
     "text": [
      "100%|██████████| 834M/834M [00:33<00:00, 26.5MB/s] "
     ]
    },
    {
     "name": "stdout",
     "output_type": "stream",
     "text": [
      "Extracting files...\n"
     ]
    },
    {
     "name": "stderr",
     "output_type": "stream",
     "text": [
      "\n"
     ]
    },
    {
     "name": "stdout",
     "output_type": "stream",
     "text": [
      "Path to dataset files: /data/ephemeral/home/.cache/kagglehub/datasets/urbikn/sroie-datasetv2/versions/4\n"
     ]
    }
   ],
   "source": []
  },
  {
   "cell_type": "code",
   "execution_count": null,
   "metadata": {},
   "outputs": [],
   "source": [
    "\n"
   ]
  }
 ],
 "metadata": {
  "kernelspec": {
   "display_name": "base",
   "language": "python",
   "name": "python3"
  },
  "language_info": {
   "codemirror_mode": {
    "name": "ipython",
    "version": 3
   },
   "file_extension": ".py",
   "mimetype": "text/x-python",
   "name": "python",
   "nbconvert_exporter": "python",
   "pygments_lexer": "ipython3",
   "version": "3.10.13"
  }
 },
 "nbformat": 4,
 "nbformat_minor": 2
}

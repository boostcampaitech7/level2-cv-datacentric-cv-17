{
 "cells": [
  {
   "cell_type": "code",
   "execution_count": null,
   "metadata": {},
   "outputs": [
    {
     "name": "stdout",
     "output_type": "stream",
     "text": [
      "변환 완료!\n"
     ]
    }
   ],
   "source": [
    "#Cleaning한 COCO format을 UFO로 변환하는 코드\n",
    "\n",
    "import json\n",
    "\n",
    "# COCO 형식의 JSON 파일 불러오기\n",
    "with open(\"/data/ephemeral/home/MCG/NewDataGenCode/viet_clean.json\", \"r\") as f:\n",
    "    coco_data = json.load(f)\n",
    "\n",
    "# 새 JSON 형식으로 변환\n",
    "new_format = {\n",
    "    \"images\": {},\n",
    "}\n",
    "\n",
    "# 이미지 정보 채우기\n",
    "for image in coco_data[\"images\"]:\n",
    "    image_id = image[\"id\"]\n",
    "    new_format[\"images\"][image[\"file_name\"]] = {\n",
    "        \"paragraphs\": {},\n",
    "        \"words\": {},\n",
    "        \"chars\": {},\n",
    "        \"img_w\": image[\"width\"],\n",
    "        \"img_h\": image[\"height\"],\n",
    "        \"num_patches\": None,\n",
    "        \"tags\": [],\n",
    "        \"relations\": {},\n",
    "        \"annotation_log\": {\n",
    "            \"worker\": \"worker\",\n",
    "            \"timestamp\": \"\",\n",
    "            \"tool_version\": \"\",\n",
    "            \"source\": None\n",
    "        },\n",
    "        \"license_tag\": {\n",
    "            \"usability\": True,\n",
    "            \"public\": False,\n",
    "            \"commercial\": True,\n",
    "            \"type\": None,\n",
    "            \"holder\": \"\"\n",
    "        }\n",
    "    }\n",
    "\n",
    "# 어노테이션 정보 채우기\n",
    "for annotation in coco_data[\"annotations\"]:\n",
    "    image_id = annotation[\"image_id\"]\n",
    "    category_id = annotation[\"category_id\"]\n",
    "    transcription = \"\"  # 필요시 실제 텍스트 정보로 수정\n",
    "    points = annotation[\"segmentation\"][0]\n",
    "    word_id = str(annotation[\"id\"]).zfill(4)  # ID를 4자리로 패딩\n",
    "\n",
    "    # 해당 이미지 파일명 찾기\n",
    "    image_file = next((img[\"file_name\"] for img in coco_data[\"images\"] if img[\"id\"] == image_id), None)\n",
    "    if image_file:\n",
    "        # 좌표를 점의 쌍으로 변환\n",
    "        points_pairs = [[points[i], points[i + 1]] for i in range(0, len(points), 2)]\n",
    "\n",
    "        # 이미지 내 단어 추가\n",
    "        new_format[\"images\"][image_file][\"words\"][word_id] = {\n",
    "            \"transcription\": transcription,\n",
    "            \"points\": points_pairs\n",
    "        }\n",
    "\n",
    "# 변환 결과 저장\n",
    "with open(\"viet_clean_ufo.json\", \"w\") as f:\n",
    "    json.dump(new_format, f, ensure_ascii=False, indent=4)\n",
    "\n",
    "print(\"변환 완료!\")\n"
   ]
  },
  {
   "cell_type": "code",
   "execution_count": null,
   "metadata": {},
   "outputs": [
    {
     "name": "stdout",
     "output_type": "stream",
     "text": [
      "All words have 4 points.\n"
     ]
    }
   ],
   "source": [
    "#변환된 json 파일 검토\n",
    "\n",
    "import json\n",
    "\n",
    "# JSON 파일 경로\n",
    "file_path = '/data/ephemeral/home/MCG/code/data/vietnamese_receipt/ufo/train.json'\n",
    "\n",
    "def check_points_length(file_path):\n",
    "    with open(file_path, 'r', encoding='utf-8') as f:\n",
    "        data = json.load(f)\n",
    "    \n",
    "    # 포인트 개수가 4가 아닌 words 항목 확인\n",
    "    irregular_words = {}\n",
    "    for image_name, image_data in data['images'].items():\n",
    "        for word_id, word_data in image_data['words'].items():\n",
    "            points = word_data.get('points', [])\n",
    "            if len(points) != 4:\n",
    "                if image_name not in irregular_words:\n",
    "                    irregular_words[image_name] = {}\n",
    "                irregular_words[image_name][word_id] = points\n",
    "    \n",
    "    # 결과 출력\n",
    "    if irregular_words:\n",
    "        print(\"Found words with irregular point counts:\")\n",
    "        for image_name, words in irregular_words.items():\n",
    "            print(f\"Image: {image_name}\")\n",
    "            for word_id, points in words.items():\n",
    "                print(f\"  Word ID: {word_id}, Points Count: {len(points)}, Points: {points}\")\n",
    "    else:\n",
    "        print(\"All words have 4 points.\")\n",
    "\n",
    "# 실행\n",
    "check_points_length(file_path)\n"
   ]
  }
 ],
 "metadata": {
  "kernelspec": {
   "display_name": "base",
   "language": "python",
   "name": "python3"
  },
  "language_info": {
   "codemirror_mode": {
    "name": "ipython",
    "version": 3
   },
   "file_extension": ".py",
   "mimetype": "text/x-python",
   "name": "python",
   "nbconvert_exporter": "python",
   "pygments_lexer": "ipython3",
   "version": "3.10.13"
  }
 },
 "nbformat": 4,
 "nbformat_minor": 2
}
